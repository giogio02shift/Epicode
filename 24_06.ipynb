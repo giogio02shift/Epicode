{
 "cells": [
  {
   "cell_type": "code",
   "execution_count": 1,
   "id": "2d453232-12ae-4075-86a7-d4ec4bc133d0",
   "metadata": {},
   "outputs": [
    {
     "name": "stdout",
     "output_type": "stream",
     "text": [
      "ciao\n"
     ]
    }
   ],
   "source": [
    "print(\"ciao\")"
   ]
  },
  {
   "cell_type": "code",
   "execution_count": 2,
   "id": "8fa1cf24-1f0a-414a-a5be-ebe7fd956a21",
   "metadata": {},
   "outputs": [
    {
     "name": "stdout",
     "output_type": "stream",
     "text": [
      "25\n"
     ]
    }
   ],
   "source": [
    "#1)Abbiamo 25 studenti, memorizzare questo dato in una variabile e stamparla a video.\n",
    "Studenti = 25\n",
    "print(Studenti)"
   ]
  },
  {
   "cell_type": "code",
   "execution_count": 5,
   "id": "fe99b5e3-d2de-48c8-a8ea-8bcbffc618b8",
   "metadata": {},
   "outputs": [
    {
     "name": "stdout",
     "output_type": "stream",
     "text": [
      "28\n"
     ]
    }
   ],
   "source": [
    "#2)Arrivano altri 3 studenti, memorizzare questo dato in un'altra variabile. Creare un'altra variabile ancora che conterrà la somma delle prime due, poi stamparla a video.\n",
    "Nuovi_studenti = 3\n",
    "Totale_studenti= Studenti+Nuovi_studenti\n",
    "print(Totale_studenti)"
   ]
  },
  {
   "cell_type": "code",
   "execution_count": 8,
   "id": "0aaf7e8e-5087-469d-818b-e895754a0733",
   "metadata": {},
   "outputs": [
    {
     "name": "stdout",
     "output_type": "stream",
     "text": [
      "Epicode\n"
     ]
    }
   ],
   "source": [
    "#3) Creare una variabile che contiene la stringa \"Epicode\", quindi stamparla a video.\n",
    "Corso=\"Epicode\"\n",
    "print(Corso)"
   ]
  },
  {
   "cell_type": "code",
   "execution_count": 10,
   "id": "8efe8793-349b-4e61-8e3d-e3cacbad453f",
   "metadata": {},
   "outputs": [
    {
     "name": "stdout",
     "output_type": "stream",
     "text": [
      "36\n"
     ]
    }
   ],
   "source": [
    "#4) Abbiamo la variabile: x = 10 Incrementarla di 2 e poi moltiplicarla per 3\n",
    "#metodo 1\n",
    "x = 10\n",
    "y = 10 + 2\n",
    "moltiplicatore = 3\n",
    "z = y * moltiplicatore\n",
    "print(z)"
   ]
  },
  {
   "cell_type": "code",
   "execution_count": 11,
   "id": "1a18627b-6594-457f-8aaf-b7fd2ae0b0c2",
   "metadata": {},
   "outputs": [
    {
     "name": "stdout",
     "output_type": "stream",
     "text": [
      "36\n"
     ]
    }
   ],
   "source": [
    "#metodo2\n",
    "x = 10\n",
    "print((x+2)*3)"
   ]
  },
  {
   "cell_type": "code",
   "execution_count": 13,
   "id": "49d95ec3-93d3-4c52-ae3a-593611275484",
   "metadata": {},
   "outputs": [
    {
     "name": "stdout",
     "output_type": "stream",
     "text": [
      "7\n"
     ]
    }
   ],
   "source": [
    "#5)Esercizio Creiamo le seguenti stringhe, e per ognuna di esse verifichiamone la lunghezza con la funzione len(): • str1 = \"Windows\" • str2 = \"Excel\" • str3 = \"Powerpoint\" • str4 = \"Word\"\n",
    "str1 = \"Windows\"\n",
    "str2 = \"Excel\"\n",
    "str3 = \"Powerpoint\"\n",
    "str4 = \"Word\"\n",
    "print(len(str1))"
   ]
  },
  {
   "cell_type": "code",
   "execution_count": 14,
   "id": "068b18d4-9af0-4a43-94f4-5f1e644e7e17",
   "metadata": {},
   "outputs": [
    {
     "name": "stdout",
     "output_type": "stream",
     "text": [
      "5\n"
     ]
    }
   ],
   "source": [
    "print(len(str2))"
   ]
  },
  {
   "cell_type": "code",
   "execution_count": 15,
   "id": "2f4d1c23-1408-425d-a443-5aa62f0de59d",
   "metadata": {},
   "outputs": [
    {
     "name": "stdout",
     "output_type": "stream",
     "text": [
      "10\n"
     ]
    }
   ],
   "source": [
    "print(len(str3))"
   ]
  },
  {
   "cell_type": "code",
   "execution_count": 16,
   "id": "4f927e82-f188-447d-927b-c09dff693a43",
   "metadata": {},
   "outputs": [
    {
     "name": "stdout",
     "output_type": "stream",
     "text": [
      "4\n"
     ]
    }
   ],
   "source": [
    "print(len(str4))"
   ]
  },
  {
   "cell_type": "code",
   "execution_count": 19,
   "id": "8e8b86e1-b1c6-4a80-b281-2b9487c69b2b",
   "metadata": {},
   "outputs": [
    {
     "name": "stdout",
     "output_type": "stream",
     "text": [
      "31536000\n"
     ]
    }
   ],
   "source": [
    "#Calcolare e stampare a video quanti secondi ci sono in un anno non bisestile.\n",
    "AnnoNonBisestile = 365\n",
    "Mesi = 12\n",
    "GiornoOre = 24\n",
    "MinutiOre = 60\n",
    "SecondiOre = 60\n",
    "SecondiAnno = SecondiOre * MinutiOre * GiornoOre * AnnoNonBisestile\n",
    "print(SecondiAnno)"
   ]
  },
  {
   "cell_type": "code",
   "execution_count": 22,
   "id": "94fbe466-3847-400d-a414-ec31b28ede52",
   "metadata": {},
   "outputs": [
    {
     "name": "stdout",
     "output_type": "stream",
     "text": [
      "I AM STUDYING PYTHON\n"
     ]
    }
   ],
   "source": [
    "#Abbiamo la seguente stringa: my_string = \"I am studying Python\" • Trasformarla in modo che tutti i caratteri siano maiuscoli (uppercase) • Trasformarla in modo che tutti i caratteri siano minuscoli (lowercase) • Sostituire la sottostringa \"Python\" con la stringa \"a lot\" • Usare il metodo .strip(); cambia qualcosa? Perché? • Usare il metodo .split() per trovare tutte le parole (token\n",
    "my_string = \"I am studying Python\"\n",
    "upper_string = my_string.upper()\n",
    "print(upper_string)"
   ]
  },
  {
   "cell_type": "code",
   "execution_count": 23,
   "id": "c88eadde-cfdd-4508-b826-f692ddcfd6c7",
   "metadata": {},
   "outputs": [
    {
     "name": "stdout",
     "output_type": "stream",
     "text": [
      "i am studying python\n"
     ]
    }
   ],
   "source": [
    "lower_string = my_string.lower()\n",
    "print(lower_string)"
   ]
  },
  {
   "cell_type": "code",
   "execution_count": 24,
   "id": "92a2437d-41fa-443e-8be6-c946dde43a33",
   "metadata": {},
   "outputs": [
    {
     "name": "stdout",
     "output_type": "stream",
     "text": [
      "I am studying a lot\n"
     ]
    }
   ],
   "source": [
    "replace_string = my_string.replace(\"Python\", \"a lot\")\n",
    "print(replace_string)"
   ]
  },
  {
   "cell_type": "code",
   "execution_count": 28,
   "id": "faf791c8-4db1-4e2f-a10a-9a42a663efc6",
   "metadata": {},
   "outputs": [
    {
     "name": "stdout",
     "output_type": "stream",
     "text": [
      "       ciao io studio\n",
      "ciao io studio\n"
     ]
    }
   ],
   "source": [
    "#.strip rimuove gli spazi all'inizio o altri caratteri all'inizio e alla fine della riga quindi supponiamo di avere:\n",
    "Mystring = \"       ciao io studio\"\n",
    "strip_string = Mystring.strip()\n",
    "print(Mystring)\n",
    "print(strip_string)\n"
   ]
  },
  {
   "cell_type": "code",
   "execution_count": 30,
   "id": "3685161e-ab8a-469d-aafa-5c6b114787fd",
   "metadata": {},
   "outputs": [
    {
     "name": "stdout",
     "output_type": "stream",
     "text": [
      "['I', 'am', 'studying', 'Python']\n"
     ]
    }
   ],
   "source": [
    "#split() suddivide la stringa in una lista di parole (token) utilizzando lo spazio come delimitatore di default\n",
    "split_string = my_string.split()\n",
    "print(split_string)"
   ]
  },
  {
   "cell_type": "code",
   "execution_count": null,
   "id": "f46665d1-b7b2-473e-88b7-8e2e32c46472",
   "metadata": {},
   "outputs": [],
   "source": [
    "#questo può tornare molto utile se vogliamo che una frase diventi un insieme di dati da inserire es. indirizzo da suddividere\n",
    "\n",
    "\n",
    "#Abbiamo due liste, una di studenti e una di corsi: studenti = [\"Alex\", \"Bob\", \"Cindy\", \"Dan\", \"Emma\", \"Faith\", \"Grace\", \"Henry\"] corsi = [\"Cybersecurity\", \"Data Analyst\", \"Backend\", \"Frontend\", \"Data Analyst\", \"Backend\"]\n",
    "#Tenendo conto che i dati sono in corrispondenza posizionale, leggiamo con attenzione le due liste. Sapendo che Emma segue Data Analyst Faith segue Backend Grace segue Frontend Henry segue Cybersecurity alla lista cui mancano dei dati, aggiungiamo i dati mancanti uno alla volta con il metodo .append()\n",
    "\n",
    "\n",
    "\n"
   ]
  }
 ],
 "metadata": {
  "kernelspec": {
   "display_name": "Python [conda env:base] *",
   "language": "python",
   "name": "conda-base-py"
  },
  "language_info": {
   "codemirror_mode": {
    "name": "ipython",
    "version": 3
   },
   "file_extension": ".py",
   "mimetype": "text/x-python",
   "name": "python",
   "nbconvert_exporter": "python",
   "pygments_lexer": "ipython3",
   "version": "3.12.7"
  }
 },
 "nbformat": 4,
 "nbformat_minor": 5
}
