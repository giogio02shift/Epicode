{
 "cells": [
  {
   "cell_type": "code",
   "execution_count": 1,
   "id": "0aa7d863-1a6b-46bd-b964-2b36b0bb0a3d",
   "metadata": {},
   "outputs": [],
   "source": [
    "# Abbiamo una lista di liste: mat = [[0, 1, 2, 3, 4], [5, 6, 7, 8, 9], [10, 11, 12, 13, 14]] Che tipo di struttura dati o matematica potrebbe rappresentare? Notare che tutte le liste \"interne\" sono della stessa dimensione Come facciamo per accedere ad un elemento in particolare?"
   ]
  },
  {
   "cell_type": "code",
   "execution_count": 2,
   "id": "0f7fda60-eb9e-493c-8e27-a76bc32b7205",
   "metadata": {},
   "outputs": [
    {
     "data": {
      "text/plain": [
       "9"
      ]
     },
     "execution_count": 2,
     "metadata": {},
     "output_type": "execute_result"
    }
   ],
   "source": [
    "mat = [[0, 1, 2, 3, 4], [5, 6, 7, 8, 9], [10, 11, 12, 13, 14]] \n",
    "#questa lista di liste in python potebbe raprresentare una matrice.\n",
    "#per accedere ad un elelmento in particolare mi basta usare la doppia indicizzazione\n",
    "#mat [riga] [colonna]\n",
    "mat[1][4]"
   ]
  },
  {
   "cell_type": "raw",
   "id": "7be7e3c2-eaf1-4c27-af8e-93a5e00dbec9",
   "metadata": {},
   "source": [
    "#Importiamo il modulo math e proviamo a usare le funzioni .sin() .cos() .factorial() e la variabile .pi la #riconoscete?\n",
    "#import math as mt\n",
    "mt.sin(60)\n",
    "mt.cos(60)\n",
    "mt.factorial(60)\n",
    "print(mt.pi)"
   ]
  },
  {
   "cell_type": "code",
   "execution_count": 3,
   "id": "a2c1cd05-add5-4f57-ba34-f5fecc0142c6",
   "metadata": {},
   "outputs": [
    {
     "name": "stdout",
     "output_type": "stream",
     "text": [
      "Help on built-in function degrees in module math:\n",
      "\n",
      "degrees(x, /)\n",
      "    Convert angle x from radians to degrees.\n",
      "\n"
     ]
    }
   ],
   "source": [
    "#Proviamo a eseguire math.degrees(math.pi) Qual è e cosa significa il risultato? Per saperne di più su questa funzione possiamo usare help(math.degrees)\n",
    "import math as mt\n",
    "mt.degrees(mt.pi)\n",
    "help(mt.degrees)"
   ]
  },
  {
   "cell_type": "code",
   "execution_count": 4,
   "id": "3c6509e9-f9c0-4c64-ac10-7c5f295addb5",
   "metadata": {},
   "outputs": [],
   "source": [
    "#converte i radianti in gradi"
   ]
  },
  {
   "cell_type": "code",
   "execution_count": 5,
   "id": "a091994f-caf7-4e19-8fd1-97d15ea98c57",
   "metadata": {},
   "outputs": [
    {
     "name": "stdout",
     "output_type": "stream",
     "text": [
      "Vendita massima mensile: 8150\n",
      "Vendita minima mensile: 1280\n",
      "Vendite maggiori di 5000: [5500 7200 6410 8150 7100 5350]\n",
      "Numero di mesi con vendite > 5000: 6\n",
      "Vendite minori di 3000: [2000 1280 1900 2500]\n",
      "In media, oggetti venduti al mese: 4634.17\n"
     ]
    }
   ],
   "source": [
    "#L'azienda Object SpA ha creato una lista di quanti oggetti ha venduto ogni mese nell'ultimo anno: lst = [2000, 5500, 7200, 4320, 1280, 1900, 2500, 3900, 6410, 8150, 7100, 5350] trasformiamola in un array NumPy (casting): lst = np.array(lst) e rispondiamo alle domande del CEO della Object SpA: • qual è stata la vendita massima mensile? E quella minima? • quali sono le vendite mensili maggiori di 5000 oggetti? E quante ne sono? • quali sono le vendite minori di 3000 oggetti?\n",
    "#in media quanti oggetti sonostati venduti al mese?\n",
    "import numpy as np\n",
    "\n",
    "lst = [2000, 5500, 7200, 4320, 1280, 1900, 2500, 3900, 6410, 8150, 7100, 5350]\n",
    "lst = np.array(lst)\n",
    "\n",
    "#vendita massima e minima\n",
    "massima = lst.max()\n",
    "minima = lst.min()\n",
    "\n",
    "print(\"Vendita massima mensile:\", massima)\n",
    "print(\"Vendita minima mensile:\", minima)\n",
    "#vendite maggiori di 500 oggetti\n",
    "vendite_maggiori_5000 = lst[lst > 5000]\n",
    "quante_maggiori_5000 = vendite_maggiori_5000.size\n",
    "\n",
    "print(\"Vendite maggiori di 5000:\", vendite_maggiori_5000)\n",
    "print(\"Numero di mesi con vendite > 5000:\", quante_maggiori_5000)\n",
    "#vendite minori di 3000 oggetti\n",
    "vendite_minori_3000 = lst[lst < 3000]\n",
    "\n",
    "print(\"Vendite minori di 3000:\", vendite_minori_3000)\n",
    "\n",
    "#in media quanti oggetti sono stati venduti al mese?\n",
    "media_mensile = np.mean(lst)\n",
    "media_arrotondata = np.round(media_mensile, 2)\n",
    "print(\"In media, oggetti venduti al mese:\", media_arrotondata)"
   ]
  },
  {
   "cell_type": "code",
   "execution_count": 6,
   "id": "33afec2d-c9e2-4430-bc1d-db5727fa52f1",
   "metadata": {},
   "outputs": [
    {
     "data": {
      "text/plain": [
       "12000"
      ]
     },
     "execution_count": 6,
     "metadata": {},
     "output_type": "execute_result"
    }
   ],
   "source": [
    "#Consideriamo il seguente dizionario: fatturati_dict = {1997: 12_000, 1998: 15_000, 1999: 20_000, 2000: 23_000, 2001: 25_000, 2002: 17_000, 2003: 14_000, 2004: 21_000} \n",
    "#Consideriamo ora la seguente Series: fatturati_series = pd.Series([12_000, 15_000, 20_000, 23_000, 25_000, 17_000, 14_000, 21_000], index=range(1997, 2005)) Possiamo accedere alle stesse informazioni nello stesso modo: fatturati_dict[1997] fatturati_series[1997]\n",
    "#qual'è la differenza tra i due tipi di dati?\n",
    "#cosa possiamo fare con la series che non potremmo fare con il dizionario?\n",
    "fatturati_dict = {\n",
    "    1997: 12000,\n",
    "    1998: 15000,\n",
    "    1999: 20000,\n",
    "    2000: 23000,\n",
    "    2001: 25000,\n",
    "    2002: 17000,\n",
    "    2003: 14000,\n",
    "    2004: 21000\n",
    "}\n",
    "\n",
    "fatturati_dict[1997]  # Restituisce 12000\n",
    "import pandas as pd\n",
    "\n",
    "fatturati_series = pd.Series(\n",
    "    [12000, 15000, 20000, 23000, 25000, 17000, 14000, 21000],\n",
    "    index=range(1997, 2005)\n",
    ")\n",
    "\n",
    "fatturati_series[1997]  # Restituisce 12000\n",
    "#la differenza tra dict(dizionario) e la series è che dict ci consente di avere delle informazioni semplici in maniera rapida mentre pd è più adatto per analisi dati.#\n",
    "#per eseguire operazioni matetmatiche, statistiche e filtri logici sul dizionario devi usare un ciclo mentre su pandas puoi effettuarle direttamente\n"
   ]
  },
  {
   "cell_type": "code",
   "execution_count": 7,
   "id": "ecb8c5e6-8f6a-42d0-a9d4-b18d870b4a89",
   "metadata": {},
   "outputs": [
    {
     "name": "stdout",
     "output_type": "stream",
     "text": [
      "[ 200  400  600  800 1000 1200 1400 1600 1800 2000]\n",
      "[ 200  400  600  800 1000 1200 1400 1600 1800 2000]\n"
     ]
    }
   ],
   "source": [
    "# L'azienda Object SpA ha un dataset con tutti gli stipendi dei dipendenti, memorizzato in un ndarray:\n",
    "#import numpy as np stipendi = np.array( [100, 200, 300, 400, 500, 600, 700, 800, 900, 1000] )\n",
    "#L'azienda ci chiede di raddoppiare tutti gli stipendi; facciamolo in due modi: \n",
    "#con un ciclo for e poi con il masking\n",
    "import numpy as np\n",
    "stipendi = np.array([ 100, 200, 300, 400, 500, 600, 700, 800, 900, 1000])\n",
    "#un array (di Numnpy) è una struttura simile ad una lista ma supporta operazioni matematiche vettoriali\n",
    "#for stipendio in stipendi:\n",
    "    #stipendio = stipendio * 2\n",
    "    #print(sipendio)\n",
    "#imppostare il ciclo cosi' èsbagliato poichè vado ad effettuare modifiche solo sulla copia e non sull'array\n",
    "#la versione giusta è:\n",
    "for stipendio in range(len(stipendi)):\n",
    "    stipendi[stipendio] = stipendi[stipendio] * 2\n",
    "print(stipendi)#stampo l'array modiicato\n",
    "#Una mask è una sequenza di valori booleani (cioè True o False) che corrisponde elemento per elemento alla tua lista o array originale.\n",
    "import numpy as np\n",
    "stipendi = np.array([ 100, 200, 300, 400, 500, 600, 700, 800, 900, 1000])\n",
    "mask = np.ones_like(stipendi, dtype=bool)  # ones_like ci crea una un nuovo array in cui tutti i suoi elementi sono 1 che impostanto il datatype booleano vuoldire true\n",
    "stipendi[mask] = stipendi[mask] * 2\n",
    "print(stipendi)\n",
    "\n"
   ]
  },
  {
   "cell_type": "code",
   "execution_count": 8,
   "id": "a0c7fe60-2566-4ce1-8879-1d8977ef8790",
   "metadata": {},
   "outputs": [
    {
     "name": "stdout",
     "output_type": "stream",
     "text": [
      "I tre numeri più grandi sono: [10, 10, 8]\n"
     ]
    }
   ],
   "source": [
    "#Scrivere un programma che, data una lista di numeri, fornisca in output i tre numeri più grandi; gestire il caso in cui la lista sia più corta di tre, e quando uno o più dei numeri selezionati sono uguali.\n",
    "import heapq\n",
    "lista = [10, 3, 5, 10, 2, 8]\n",
    "if not lista:\n",
    "    print(\"la lista è vuota.\")\n",
    "elif len(lista) < 3:\n",
    "    print(\"lista troppo corta, numeri disponibili(ordinati):\", sorted(lista, reverse =\"true\"))\n",
    "else:\n",
    "    top3 = heapq.nlargest(3, lista) #nlargest i più grandi numeri\n",
    "    print(\"I tre numeri più grandi sono:\", top3)\n",
    "#nsmallest\n",
    "#nlargest\n",
    "#heapq è una libreria che ci aiuta facilmente a trovare n numeri più grandi o più piccoli di una lista\n"
   ]
  },
  {
   "cell_type": "code",
   "execution_count": 9,
   "id": "4ce0dc5f-5fc9-4a67-bfbb-933f087d0a2f",
   "metadata": {},
   "outputs": [
    {
     "name": "stdin",
     "output_type": "stream",
     "text": [
      "Inserisci un numero K:  5\n",
      "Inserisci un numero (o 'stop' per terminare):  4\n",
      "Inserisci un numero (o 'stop' per terminare):  5\n",
      "Inserisci un numero (o 'stop' per terminare):  4\n",
      "Inserisci un numero (o 'stop' per terminare):  6\n",
      "Inserisci un numero (o 'stop' per terminare):  7\n",
      "Inserisci un numero (o 'stop' per terminare):  stop\n"
     ]
    },
    {
     "name": "stdout",
     "output_type": "stream",
     "text": [
      "La media dei numeri ≥ 5.0 è: 6.0\n"
     ]
    }
   ],
   "source": [
    "#Scrivere un programma che • in input acquisisce una lista di numeri e un numero K • in output, dovrà restituire la media di tutti i numeri nella lista maggiori o uguali a K • se non ce ne dovesse essere nessuno, dovrà stampare a schermo un messaggio adeguato.\n",
    "import statistics  # Libreria standard per calcoli statistici\n",
    "K = float(input(\"Inserisci un numero K: \"))\n",
    "# Lista vuota per contenere i numeri\n",
    "lista = []\n",
    "while True: #scriviamo true perchè non essendoci una condizione il ciclo continuerebbe all'infinito\n",
    "    valore = input(\"Inserisci un numero (o 'stop' per terminare): \")\n",
    "    \n",
    "    if valore.lower() == \"stop\": #.lower(converte in minuscolo) lo utilizzimo per ignorare se il cliente ha scritto stop con maiuscole o minuscole\n",
    "        break  # esce dal ciclo\n",
    "    try:\n",
    "        numero = float(valore) #float trasforma un numero in un numero decimale(cioè con la virgola)\n",
    "        lista.append(numero) #aggiungiamo il numero alla lista\n",
    "    except ValueError:           \n",
    "        print(\"errore, Inserisci un numero valido.\")\n",
    "# Creiamo una nuova lista con i numeri  che sono maggiori o uguali a K\n",
    "numeri_filtrati = [x for x in lista if x >= K]\n",
    "#è un modo più veloce per descrivere il ciclo sottostante\n",
    "#numeri_filtrati = []\n",
    "#for x in lista:\n",
    "    #if x >= K:\n",
    "        #numeri_filtrati.append(x)\n",
    "# Calcola la media con la libreria statistics\n",
    "if numeri_filtrati:\n",
    "    media = statistics.mean(numeri_filtrati)\n",
    "    print(f\"La media dei numeri ≥ {K} è: {media}\")\n",
    "else:\n",
    "    print(f\"Nessun numero maggiore o uguale a {K} è stato inserito.\")\n",
    "\n",
    "#abbiamo utilizzato try e except per gestire gli errori perchè supponendo che l'utente avesse inserito una parola il programma andava in errore, invece così funziona comunque"
   ]
  },
  {
   "cell_type": "code",
   "execution_count": 10,
   "id": "b3114dc7-0368-4293-8e36-5f307fdc0e1d",
   "metadata": {},
   "outputs": [
    {
     "name": "stdout",
     "output_type": "stream",
     "text": [
      "*****\n",
      "****\n",
      "**********\n",
      "**\n"
     ]
    }
   ],
   "source": [
    "#Scrivere un programma che, data una lista di numeri, come output stamperà lo stesso numero di asterischi su righe diverse, ottenendo una semplice visualizzazione grafica Esempio, supponendo di avere il seguente input: numeri = [5, 2, 3, 4] L'output sarà: ***** ** *** ****\n",
    "numeri = [5, 4, 10, 2]\n",
    "for numero in numeri:\n",
    "    print(\"*\" * numero)"
   ]
  },
  {
   "cell_type": "code",
   "execution_count": null,
   "id": "91d11de1-43ae-4f70-91c0-dd2e83cd6a21",
   "metadata": {},
   "outputs": [],
   "source": [
    "#Abbiamo una lista di codici fiscali: lista_cf = [\"ABCDEF95G01A123B\", \"GHIJKL91M02A321C\", \"MNOPQR89S03A456D\", \"STUVWX95Z04A654E\", \"XYZABC01D05A789F\", \"DEFGHI95J06A987G\"]\n",
    "#trovare i codici fiscali che contengono \"95\", metterli in una lista, e alla fine stamparla;\n",
    "#inoltre, per ognuno di essi, stampare a video i caratteri relativi al nome e quelli relativi al cognome\n",
    "#le prime 3 lettere del codice fiscale si riferiscono al cognome mentre le 3 successive al nome\n",
    "lista_cf=[\"ABCDEF95G01A123B\", \"GHIJKL91M02A321C\", \"MNOPQR89S03A456D\", \"STUVWX95Z04A654E\", \"XYZABC01D05A789F\", \"DEFGHI95J06A987G\"]\n",
    "cf_95 = []\n",
    "for codice in lista_cf:\n",
    "    if \"95\" in codice:\n",
    "        lista_cf.append(codice)\n",
    "print(\"i codici fiscali contenenti il numero 95 sono: \")\n",
    "print(cf_95)\n",
    "print(\"Dettagli dei codici con '95':\")\n",
    "for codice in cf_95:\n",
    "    cognome = codice[0:3]  # primi 3 caratteri\n",
    "    nome = codice[3:6]     # caratteri da 3 a 5 (cioè 4°, 5°, 6°)\n",
    "    print(f\"Codice: {codice} ➜ Cognome: {cognome}, Nome: {nome}\")\n"
   ]
  },
  {
   "cell_type": "code",
   "execution_count": 8,
   "id": "24efb586-2e12-483f-8152-75f4d37f2e75",
   "metadata": {},
   "outputs": [
    {
     "name": "stdout",
     "output_type": "stream",
     "text": [
      "per lo studenteAlex l'edizione del corso è 1\n",
      "per lo studenteFaith l'edizione del corso è 1\n"
     ]
    }
   ],
   "source": [
    "#Abbiamo tre liste della stessa lunghezza, dove ogni elemento nella medesima posizione si riferisce ai dati dello stesso studente: \n",
    "studenti = [\"Alex\", \"Bob\", \"Cindy\", \"Dan\", \"Emma\", \"Faith\", \"Grace\", \"Henry\"] \n",
    "corsi = [\"Cybersecurity\", \"Data Analyst\", \"Backend\", \"Frontend\", \"Data Analyst\", \"Backend\", \"Frontend\", \"Cybersecurity\"] \n",
    "edizioni = [1, 2, 3, 2, 2, 1, 3, 3]# Stampare a video tutti e soli gli studenti che frequentano una prima edizione; non tutti i dati potrebbero essere necessari.\n",
    "for i in range(len(studenti)):\n",
    "    if edizioni[i] == 1:\n",
    "        print(f\"per lo studente{studenti[i]} l'edizione del corso è {edizioni[i]}\")"
   ]
  },
  {
   "cell_type": "code",
   "execution_count": 12,
   "id": "d3a41143-e2d4-4bf3-85b1-14123d3d129d",
   "metadata": {},
   "outputs": [
    {
     "name": "stdout",
     "output_type": "stream",
     "text": [
      "  studente  edizione\n",
      "0     Alex         1\n",
      "5    Faith         1\n"
     ]
    }
   ],
   "source": [
    "#metodo 2\n",
    "import pandas as pd\n",
    "#creiamo i DataFrame:\n",
    "data = {\n",
    "    \"studente\": [\"Alex\", \"Bob\", \"Cindy\", \"Dan\", \"Emma\", \"Faith\", \"Grace\", \"Henry\"],\n",
    "    \"corso\":[\"Cybersecurity\", \"Data Analyst\", \"Backend\", \"Frontend\", \"Data Analyst\", \"Backend\", \"Frontend\", \"Cybersecurity\"],\n",
    "    \"edizione\":[1, 2, 3, 2, 2, 1, 3, 3]\n",
    "}\n",
    "df = pd.DataFrame(data)\n",
    "prima_edizione = df[df[\"edizione\"] == 1]\n",
    "print(prima_edizione[[\"studente\",\"edizione\"]])"
   ]
  },
  {
   "cell_type": "code",
   "execution_count": 13,
   "id": "6de3599f-f48b-4522-8fb3-7c23d5ee1c04",
   "metadata": {},
   "outputs": [
    {
     "name": "stdout",
     "output_type": "stream",
     "text": [
      "['100 $', '200 $', '500 $', '10 $', '50 $', '70 $']\n"
     ]
    }
   ],
   "source": [
    "#Abbiamo una lista di stringhe di prezzi in dollari, che erroneamente sono stati scritti con il simbolo dell'euro:\n",
    "prezzi = [\"100 €\", \"200 €\", \"500 €\", \"10 €\", \"50 €\", \"70 €\"] \n",
    "#cambiare il simbolo dell'euro (€) in quello del dollaro ($) per ogni stringa nella lista; il risultato sarà memorizzato in un'altra lista.\n",
    "prezzi_dollaro = []\n",
    "for prezzo in prezzi:\n",
    "    prezzo_corretto = prezzo.replace(\"€\", \"$\")\n",
    "    prezzi_dollaro.append(prezzo_corretto)\n",
    "print(prezzi_dollaro)\n"
   ]
  },
  {
   "cell_type": "code",
   "execution_count": 16,
   "id": "7bd5e13c-5449-419d-bed6-6aa3e65e4b36",
   "metadata": {},
   "outputs": [
    {
     "name": "stdout",
     "output_type": "stream",
     "text": [
      "  prezzo prezzo_corretto\n",
      "0  100 €           100 $\n",
      "1  200 €           200 $\n",
      "2  500 €           500 $\n",
      "3   10 €            10 $\n",
      "4   50 €            50 $\n",
      "5   70 €            70 $\n"
     ]
    }
   ],
   "source": [
    "#stessa cosa utilizzando pandas\n",
    "import pandas as pd\n",
    "prezzi = [\"100 €\", \"200 €\", \"500 €\", \"10 €\", \"50 €\", \"70 €\"]\n",
    "df = pd.DataFrame(prezzi, columns=[\"prezzo\"])\n",
    "df[\"prezzo_corretto\"] = df[\"prezzo\"].str.replace(\"€\", \"$\")\n",
    "print(df)"
   ]
  },
  {
   "cell_type": "code",
   "execution_count": 6,
   "id": "199d5ef4-79a7-4036-8751-24feffde65f3",
   "metadata": {},
   "outputs": [
    {
     "name": "stdout",
     "output_type": "stream",
     "text": [
      "La lista studenti con indice di posizionamento pari è: [0, 2, 4, 6, 8]\n",
      "La lista studenti con indice di posizionamento dispari è[1, 3, 5, 7, 9]\n"
     ]
    }
   ],
   "source": [
    "#Abbiamo una lista di studenti: studenti = [\"Alex\", \"Bob\", \"Cindy\", \"Dan\", \"Emma\", \"Faith\", \"Grace\", \"Henry\", \"Isabelle\", \"John\"] \n",
    "#vogliamo dividere gli studenti in due squadre per un campionato di Uno nel seguente modo: \n",
    "#selezioneremo i nomi in posizione pari per un squadra, e i nomi in posizione dispari per l'altra. Creiamo due liste per ogni squadra, e alla fine visualizziamole\n",
    "studenti = [\"Alex\", \"Bob\", \"Cindy\", \"Dan\", \"Emma\", \"Faith\", \"Grace\", \"Henry\", \"Isabelle\", \"John\"]\n",
    "studenti_pari = []\n",
    "studenti_dispari = []\n",
    "for studente in range(len(studenti)):\n",
    "    if studente % 2 == 0:\n",
    "        studenti_pari.append(studente)\n",
    "    else:\n",
    "        studenti_dispari.append(studente)\n",
    "print(f\"La lista studenti con indice di posizionamento pari è: {studenti_pari}\")\n",
    "print(f\"La lista studenti con indice di posizionamento dispari è{studenti_dispari}\")"
   ]
  },
  {
   "cell_type": "code",
   "execution_count": 12,
   "id": "e334cc95-e00e-453b-8b6d-ad2313bca59b",
   "metadata": {},
   "outputs": [
    {
     "name": "stdout",
     "output_type": "stream",
     "text": [
      "La lista studenti con indice di posizionamento pari è: [0, 2, 4, 6, 8]\n",
      "La lista studenti con indice di posizionamento dispari è[1, 3, 5, 7, 9]\n"
     ]
    }
   ],
   "source": [
    "#utilizzando pandas\n",
    "import pandas as pd\n",
    "studenti = [\"Alex\", \"Bob\", \"Cindy\", \"Dan\", \"Emma\", \"Faith\", \"Grace\", \"Henry\", \"Isabelle\", \"John\"]\n",
    "df = pd.DataFrame(studenti, columns=[\"studente\"])\n",
    "df[\"indice\"] = df.index #aggiungiamo una colonna con l'indice\n",
    "squadra_pari = df[df[\"indice\"] % 2 == 0][\"studente\"].tolist()\n",
    "squadra_dispari = df[df[\"indice\"] % 2 != 0][\"studente\"].tolist()\n",
    "print(f\"La lista studenti con indice di posizionamento pari è: {studenti_pari}\")\n",
    "print(f\"La lista studenti con indice di posizionamento dispari è{studenti_dispari}\")\n"
   ]
  },
  {
   "cell_type": "code",
   "execution_count": 22,
   "id": "c6bd6c00-4de9-4b50-ba0f-b62d3773cfea",
   "metadata": {},
   "outputs": [
    {
     "name": "stdout",
     "output_type": "stream",
     "text": [
      "Mese 1: 100 €\n",
      "Mese 2: 90 € (media prec: 100.00 € - il guadagno attuale è minore)\n",
      "Mese 3: 70 € (media prec: 95.00 € - il guadagno attuale è minore)\n",
      "Mese 4: 40 € (media prec: 86.67 € - il guadagno attuale è minore)\n",
      "Mese 5: 50 € (media prec: 75.00 € - il guadagno attuale è minore)\n",
      "Mese 6: 80 € (media prec: 70.00 € - il guadagno attuale è maggiore)\n",
      "Mese 7: 90 € (media prec: 71.67 € - il guadagno attuale è maggiore)\n",
      "Mese 8: 120 € (media prec: 74.29 € - il guadagno attuale è maggiore)\n",
      "Mese 9: 80 € (media prec: 80.00 € - il guadagno attuale è uguale)\n",
      "Mese 10: 20 € (media prec: 80.00 € - il guadagno attuale è minore)\n",
      "Mese 11: 50 € (media prec: 74.00 € - il guadagno attuale è minore)\n",
      "Mese 12: 50 € (media prec: 71.82 € - il guadagno attuale è minore)\n"
     ]
    }
   ],
   "source": [
    "#Abbiamo una lista con i guadagni degli ultimi 12 mesi (supponiamo da Gennaio a Dicembre): guadagni = [100, 90, 70, 40, 50, 80, 90, 120, 80, 20, 50, 50]\n",
    "#dobbiamo confrontare, stampando tutto a video, il guadagno di ogni mese con la media dei guadagni precedenti, e specificare nell'output se il guadagno attuale è maggiore o minore della media dei precedenti.\n",
    "#Esempio di un possibile output: Mese 1: 100 € \n",
    "#Mese 2: 90 € (media prec: 100 € - il guadagno attuale è minore)\n",
    "#mese 3: 70 € (media prec: 90 € - il guadagno attuale è minore)\n",
    "guadagni = [100, 90, 70, 40, 50, 80, 90, 120, 80, 20, 50, 50]\n",
    "\n",
    "for i in range(len(guadagni)):\n",
    "    mese = i + 1  # I mesi partono da 1\n",
    "    guadagno_attuale = guadagni[i]\n",
    "     \n",
    "    if i == 0:\n",
    "        print(f\"Mese {mese}: {guadagno_attuale} €\")\n",
    "    else:\n",
    "        media_precedenti = sum(guadagni[:i]) / i\n",
    "\n",
    "        if guadagno_attuale > media_precedenti:\n",
    "            confronto = \"maggiore\"\n",
    "        elif guadagno_attuale < media_precedenti:\n",
    "            confronto = \"minore\"\n",
    "        else:\n",
    "            confronto = \"uguale\"\n",
    "\n",
    "        print(f\"Mese {mese}: {guadagno_attuale} € (media prec: {media_precedenti:.2f} € - il guadagno attuale è {confronto})\")"
   ]
  },
  {
   "cell_type": "code",
   "execution_count": null,
   "id": "776801ac-3232-4bec-b3fb-2bd33e99fcaf",
   "metadata": {},
   "outputs": [],
   "source": []
  }
 ],
 "metadata": {
  "kernelspec": {
   "display_name": "Python [conda env:base] *",
   "language": "python",
   "name": "conda-base-py"
  },
  "language_info": {
   "codemirror_mode": {
    "name": "ipython",
    "version": 3
   },
   "file_extension": ".py",
   "mimetype": "text/x-python",
   "name": "python",
   "nbconvert_exporter": "python",
   "pygments_lexer": "ipython3",
   "version": "3.12.7"
  }
 },
 "nbformat": 4,
 "nbformat_minor": 5
}
