{
 "cells": [
  {
   "cell_type": "code",
   "execution_count": null,
   "id": "9142151f-896e-40f3-b1d4-9d8e7d214a54",
   "metadata": {},
   "outputs": [],
   "source": [
    "#Abbiamo la stringa: nome_scuola = \"Epicode\" Stampare ogni carattere della stringa, uno su ogni riga, utilizzando un costrutto while.\n",
    "nome_scuola = \"Epicode\"\n",
    "for lettera in nome_scuola:\n",
    "    print(lettera)\n",
    "    lettera=+1\n",
    "#per me in questo esercizio sarebbe più adatto il for, ora facciomolo con while:\n",
    "nome_scuola = \"Epicode\"\n",
    "lettera_indice = 0\n",
    "while lettera_indice < len(nome_scuola):\n",
    "    print(nome_scuola[lettera_indice])\n",
    "    lettera_indice+= 1\n",
    "    "
   ]
  },
  {
   "cell_type": "code",
   "execution_count": null,
   "id": "42726267-dfd1-44eb-9ad7-b795004fc9c2",
   "metadata": {},
   "outputs": [],
   "source": [
    "#Stampare a video tutti i numeri da 0 a 20 utilizzando il costrutto while. Utilizzeremo: • un ciclo while • la funzione print() • una variabile, che dovrà essere inizializzata • una procedura di incremento\n",
    "\n",
    "lista_numeri = 20\n",
    "numero_cella = 0 \n",
    "while numero_cella <= lista_numeri:\n",
    "    print(numero_cella)\n",
    "    numero_cella += 1"
   ]
  },
  {
   "cell_type": "code",
   "execution_count": null,
   "id": "558148be-0da5-4290-9018-11898fc1c39c",
   "metadata": {},
   "outputs": [],
   "source": [
    "#Calcolare e stampare tutte le prime 10 potenze di 2 (e.g., 2⁰, 2¹, 2², …) utilizzando un ciclo while.\n",
    "esponente = 0\n",
    "limite = 10\n",
    "while esponente <= limite:\n",
    "    potenza = 2** esponente\n",
    "    print(f\"2^{esponente} = {potenza}\")\n",
    "    esponente += 1\n"
   ]
  },
  {
   "cell_type": "code",
   "execution_count": null,
   "id": "2556e412-504d-4623-91ff-c7198468e045",
   "metadata": {},
   "outputs": [],
   "source": [
    "#Calcolare e stampare tutte le prime N potenze di 2 utilizzando un ciclo while, domandando all'utente di inserire N.\n",
    "#utilizzeremmo un ciclo for se non sapessimo quanti valori verranno inseriti ma siccome qui il limite dlle potenza da calcolare è inserito dall'utente possiamo utilizzare il while\n",
    "#la differenza tra un ciclo for e while è che nel primo non si conosce il numero di dati su cui si va ad operare mentre il secondo si\n"
   ]
  },
  {
   "cell_type": "code",
   "execution_count": null,
   "id": "98e4c863-cca9-4a2f-896b-0086775c284d",
   "metadata": {},
   "outputs": [],
   "source": [
    "N = int(input(\"inserisci il numero di potenze di 2 da calcolare: \"))\n",
    "esponente = 0\n",
    "while esponente <= N:\n",
    "    potenza= 2 ** esponente\n",
    "    print(f\"2^{esponente} = {potenza}\")\n",
    "    esponente += 1\n",
    "    \n"
   ]
  },
  {
   "cell_type": "code",
   "execution_count": null,
   "id": "68410ad3-6160-4abd-84d3-0a01b6af1ff8",
   "metadata": {},
   "outputs": [],
   "source": [
    "#Calcolare e stampare tutte le potenze di 2 minori di 25000.\n",
    "esponente = 0\n",
    "limite_risultato = 25000\n",
    "potenza = 2** esponente #inizializzazione\n",
    "while  potenza < 25000:\n",
    "    print(potenza)\n",
    "    esponente += 1\n",
    "    potenza = 2** esponente"
   ]
  },
  {
   "cell_type": "code",
   "execution_count": null,
   "id": "6d950a94-0c57-4c9c-9dba-56897b026431",
   "metadata": {},
   "outputs": [],
   "source": [
    "#Scriviamo un programma che chiede in input all'utente una stringa e visualizza i primi 3 carat\n",
    "testo = input(\"inserisci una stringa: \")\n",
    "lunghezza = len(testo)\n",
    "\n",
    "if lunghezza >= 6:\n",
    "    risultato = testo[:3] + \"...\" + testo[3:]\n",
    "elif lunghezza >3: #posso scrivere cosi e non mi va in conflitto con la prima perchè python rispetta l'ordine con il quale gli vengono scritti gli if \n",
    "    risultato = testo[:3] + \"...\"\n",
    "else:\n",
    "    risultato = testo\n",
    "print(risultato)\n"
   ]
  },
  {
   "cell_type": "code",
   "execution_count": null,
   "id": "35f6d6cb-a19d-4662-b5b0-bba1fa0f0b64",
   "metadata": {},
   "outputs": [],
   "source": [
    "#Memorizza e stampa tutti i fattori di un numero dato in input (cioè tutti i numeri primi che, moltiplicati tra di loro, danno il numero di partenza).\n",
    "\n",
    "#la differenza tra = e == in programmazione è che il primo si us per l'assegnazione di un valore ad una variabile per esempio mentre il secondo si usa per il confronto quindi è una domanda (tipo if)\n",
    "numero = int(input(\"Inserisci un numero intero positivo (>1): \"))\n",
    "n = numero\n",
    "fattori_primi = set()  # usiamo un set invece di una lista\n",
    "divisore = 2\n",
    "if numero <= 1:\n",
    "    print(\"Errore: inserisci un numero maggiore di 1.\")\n",
    "else:\n",
    "    while numero > 1:\n",
    "        if numero % divisore == 0:\n",
    "            fattori_primi.add(divisore)  # .add invece di .append\n",
    "            numero //= divisore #è equivlente a scrivere numero = numero // divisore\n",
    "        else:\n",
    "            divisore += 1 # non aumentiamo il divisore subito perché potrebbe dividere il numero più volte (es. 2 divide 60 due volte)\n",
    "print(f\"I fattori primi distinti di {n} sono: {sorted(fattori_primi)}\") \n",
    "\n",
    "\n",
    "#set mi rimuove i duplicati e sorted mi ordina i fattori primi in ordine crescente."
   ]
  },
  {
   "cell_type": "code",
   "execution_count": null,
   "id": "cc4b7675-6469-42f2-a131-fc1fa70c3998",
   "metadata": {},
   "outputs": [],
   "source": [
    "#Abbiamo la stringa: nome_scuola = \"Epicode\" Stampare ogni carattere della stringa, uno su ogni riga, utilizzando un costrutto for.\n",
    "nome_scuola =\"epicode\"\n",
    "for lettera in nome_scuola:\n",
    "    print(lettera)\n",
    "    \n"
   ]
  },
  {
   "cell_type": "code",
   "execution_count": null,
   "id": "be5a4177-cedd-46b7-a098-8175e58d69a2",
   "metadata": {},
   "outputs": [],
   "source": [
    "#Calcolare e stampare tutte le prime 10 potenze di 2 utilizzando un ciclo. Per eseguire un certo numero di volte un ciclo si può utilizzare la funzione built-in range()\n",
    "#nonostante con il fo non sappiamo il umero di dati possiamo impostare un limite con il range\n",
    "for esponente in range(10):\n",
    "    potenza = 2** esponente\n",
    "    print(f\"2^{esponente}= {potenza}\")"
   ]
  },
  {
   "cell_type": "code",
   "execution_count": 2,
   "id": "e1d34aa5-f38c-4d22-9ac0-77805472a5c4",
   "metadata": {},
   "outputs": [
    {
     "name": "stdin",
     "output_type": "stream",
     "text": [
      "quante potenze vuoi calcolare  10\n",
      "inserisci la base k su cui calcolare la potenza  2\n"
     ]
    },
    {
     "name": "stdout",
     "output_type": "stream",
     "text": [
      "le prime 10 potenze di 2 sono: [1, 2, 4, 8, 16, 32, 64, 128, 256, 512]\n"
     ]
    },
    {
     "name": "stdin",
     "output_type": "stream",
     "text": [
      "quante potenze vuoi?  10\n",
      "inserisci la base k su cui calcolare la potenza  2\n"
     ]
    },
    {
     "name": "stdout",
     "output_type": "stream",
     "text": [
      "le prime 10 potenze di 2 sono: [1, 2, 4, 8, 16, 32, 64, 128, 256, 512]\n"
     ]
    }
   ],
   "source": [
    "# Calcolare (ma non stampare) le prime N potenze di K; ognuna di esse andrà memorizzata in coda a una lista. Alla fine, stampare la lista risultante. Proviamo con diversi valori di K, oppure facciamola inserire all'utente. Realizzare due versioni: • con un ciclo while, • con un ciclo for.\n",
    "#for\n",
    "n = int(input(\"quante potenze vuoi calcolare \"))\n",
    "k = int(input(\"inserisci la base k su cui calcolare la potenza \"))\n",
    "lista_potenze =[]\n",
    "for esponente in range(n):\n",
    "    potenza = k ** esponente\n",
    "    lista_potenze.append(potenza)\n",
    "print(f\"le prime {n} potenze di {k} sono: {lista_potenze}\")\n",
    "\n",
    "\n",
    "#while\n",
    "n = int(input(\"quante potenze vuoi? \"))\n",
    "k = int(input(\"inserisci la base k su cui calcolare la potenza \"))\n",
    "lista_potenze = []\n",
    "esponente = 0\n",
    "while esponente < n:\n",
    "    potenza = k ** esponente\n",
    "    lista_potenze.append(potenza)\n",
    "    esponente+= 1\n",
    "print(f\"le prime {n} potenze di {k} sono: {lista_potenze}\")"
   ]
  },
  {
   "cell_type": "code",
   "execution_count": 8,
   "id": "f6d9e289-6be4-4dd7-a195-b212e36c1af6",
   "metadata": {},
   "outputs": [
    {
     "name": "stdout",
     "output_type": "stream",
     "text": [
      "la media dei guadagni è: 70.0\n"
     ]
    }
   ],
   "source": [
    "#Abbiamo una lista con i guadagni degli ultimi 12 mesi: guadagni = [100, 90, 70, 40, 50, 80, 90, 120, 80, 20, 50, 50] usando un costrutto for, calcolare la media dei guadagni e stamparla a video.\n",
    "guadagni = [100, 90, 70, 40, 50, 80, 90, 120, 80, 20, 50, 50]\n",
    "conta = 0\n",
    "somma = 0\n",
    "for guadagno in guadagni:\n",
    "    conta = conta + 1\n",
    "    somma = somma + guadagno\n",
    "media = somma / conta\n",
    "print(f\"la media dei guadagni è: {media}\")\n"
   ]
  },
  {
   "cell_type": "code",
   "execution_count": 12,
   "id": "90ea6253-f614-45cd-bc3d-bc126c546bdd",
   "metadata": {},
   "outputs": [
    {
     "name": "stdout",
     "output_type": "stream",
     "text": [
      "le lettere e contenti in Albergo sono: 1\n",
      "le lettere e contenti in Sedia sono: 1\n",
      "le lettere e contenti in Borgo sono: 0\n",
      "le lettere e contenti in Petalo sono: 1\n",
      "le lettere e contenti in Eremo sono: 2\n",
      "le lettere e contenti in Belvedere sono: 4\n",
      "le lettere e contenti in Semestre sono: 3\n",
      "le lettere e contenti in Esteta sono: 2\n",
      "le lettere e contenti in Sosta sono: 0\n",
      "le lettere e contenti in Orpello sono: 1\n",
      "le lettere e contenti in Abete sono: 2\n",
      "le lettere e contenti in Orologio sono: 0\n",
      "le lettere e contenti in Cesta sono: 1\n",
      "le lettere e contenti in Ermellino sono: 2\n"
     ]
    }
   ],
   "source": [
    "#Abbiamo una lista di parole: parole = [\"Albergo\", \"Sedia\", \"Borgo\", \"Petalo\", \"Eremo\", \"Belvedere\", \"Semestre\", \"Esteta\", \"Sosta\", \"Orpello\", \"Abete\", \"Orologio\", \"Cesta\", \"Ermellino\"] stampiamo, per ogni parola, quante volte appare la lettera \"e\"; facciamo attenzione al fatto che appare sia maiuscola che minuscola.\n",
    "parole = [\"Albergo\", \"Sedia\", \"Borgo\", \"Petalo\", \"Eremo\", \"Belvedere\", \"Semestre\", \"Esteta\", \"Sosta\", \"Orpello\", \"Abete\", \"Orologio\", \"Cesta\", \"Ermellino\"]\n",
    "for parola in parole:\n",
    "    parola_minuscola = parola.lower() #in modo tale che ci conti tutte le e\n",
    "    conta_e = parola_minuscola.count('e')\n",
    "    print(f\"le lettere e contenti in {parola} sono: {conta_e}\") #attenzione all'indentazione, se questo viene messo a magargine fuori dl ciclo l'output che otteniamo è solo quello dell'ultima parola analizzata"
   ]
  },
  {
   "cell_type": "code",
   "execution_count": 13,
   "id": "88054b18-011e-42e4-beab-15c0c8fa40ab",
   "metadata": {},
   "outputs": [
    {
     "name": "stdout",
     "output_type": "stream",
     "text": [
      "Dizionario completo: {'Ada': 'Punto', 'Ben': 'Multipla', 'Charlie': 'Golf', 'Debbie': '107'}\n",
      "L'auto di Debbie è: 107\n"
     ]
    }
   ],
   "source": [
    "#Creiamo un dizionario che assegni ad ogni proprietario la sua auto, sapendo che: • Ada guida una Punto • Ben guida una Multipla • Charlie guida una Golf • Debbie guida una 107 Stampiamo il dizionario per intero, e poi l'auto associata a Debbie.\n",
    "#dizionario è associazione di una chiave ad un valore\n",
    "auto_proprietari = {\n",
    "    \"Ada\": \"Punto\",\n",
    "    \"Ben\": \"Multipla\",\n",
    "    \"Charlie\": \"Golf\",\n",
    "    \"Debbie\": \"107\"\n",
    "}\n",
    "#stampiamo per intero il dizionario\n",
    "print(\"Dizionario completo:\", auto_proprietari)\n",
    "#stampiamo la macchine che guida Debbie\n",
    "print(\"L'auto di Debbie è:\", auto_proprietari[\"Debbie\"])#per la chiave Debbie qual'è il valore associato?"
   ]
  },
  {
   "cell_type": "code",
   "execution_count": 26,
   "id": "403bc0ff-f9eb-418e-a8e3-707163eb92e2",
   "metadata": {},
   "outputs": [
    {
     "name": "stdout",
     "output_type": "stream",
     "text": [
      "Punto\n",
      "Golf\n",
      "107\n",
      "Ada guida Punto\n",
      "Charlie guida Golf\n",
      "Debbie guida 107\n"
     ]
    }
   ],
   "source": [
    "#Abbiamo un dizionario che assegna ad ogni proprietario la sua auto: dizionario_auto = {\"Ada\": \"Punto\", \"Ben\": \"Multipla\", \"Charlie\": \"Golf\", \"Debbie\": \"107\"} Con un ciclo, e usando il metodo .values(), stampiamo a video tutte le auto che non sono una Multipla.\n",
    "auto_proprietari = {\n",
    "    \"Ada\": \"Punto\",\n",
    "    \"Ben\": \"Multipla\",\n",
    "    \"Charlie\": \"Golf\",\n",
    "    \"Debbie\": \"107\"\n",
    "}\n",
    "#.keys ci permette di vedere in output tutte le chiavi del dizionario\n",
    "#.values ci permette di vedere in output tutti i valori del dizionario\n",
    "#.items ci permtte di vedere in output tutte le coppie chaive:valore del dizionario\n",
    "for auto in auto_proprietari.values():\n",
    "    if auto != \"Multipla\": #occhio hai confronti perchè sono case sensitive.\n",
    "        print(auto)\n",
    "        \n",
    "for proprietario, auto in auto_proprietari.items():\n",
    "    if auto != \"Multipla\":\n",
    "       print(f\"{proprietario} guida {auto}\")\n",
    "    "
   ]
  },
  {
   "cell_type": "code",
   "execution_count": 27,
   "id": "62be274c-cbb6-486a-b66c-81911d272ec7",
   "metadata": {},
   "outputs": [
    {
     "name": "stdout",
     "output_type": "stream",
     "text": [
      "{'Ada': 'Punto', 'Ben': 'Polo', 'Charlie': 'Golf', 'Debbie': '107', 'Emily': 'A1', 'Fred': 'Octavia', 'Grace': 'Yaris', 'Hugh': 'Clio'}\n"
     ]
    }
   ],
   "source": [
    "#Abbiamo due dizionari che assegnano ad ogni proprietario la propria auto: dizionario_auto = {\"Ada\": \"Punto\", \"Ben\": \"Multipla\", \"Charlie\": \"Golf\", \"Debbie\": \"107\", \"Emily\": \"A1\"} nuovi_proprietari = {\"Ben\": \"Polo\", \"Fred\": \"Octavia\", \"Grace\": \"Yaris\", \"Hugh\": \"Clio\"} Aggiornare il dizionario dizionario_auto con i dati contenuti in nuovi_proprietari e stamparlo. Cosa è successo a Ben?\n",
    "dizionario_auto = {\n",
    "    \"Ada\": \"Punto\",\n",
    "    \"Ben\": \"Multipla\",\n",
    "    \"Charlie\": \"Golf\",\n",
    "    \"Debbie\": \"107\",\n",
    "    \"Emily\": \"A1\"\n",
    "}\n",
    "nuovi_proprietari = {\n",
    "    \"Ben\": \"Polo\",\n",
    "    \"Fred\": \"Octavia\",\n",
    "    \"Grace\": \"Yaris\",\n",
    "    \"Hugh\": \"Clio\"\n",
    "}\n",
    "dizionario_auto.update(nuovi_proprietari)\n",
    "print(dizionario_auto)\n",
    "#ben è passato dalla multipla alla polo"
   ]
  },
  {
   "cell_type": "code",
   "execution_count": null,
   "id": "b9646bfa-d547-4f1b-81f9-7d0cec23911f",
   "metadata": {},
   "outputs": [],
   "source": []
  }
 ],
 "metadata": {
  "kernelspec": {
   "display_name": "Python [conda env:base] *",
   "language": "python",
   "name": "conda-base-py"
  },
  "language_info": {
   "codemirror_mode": {
    "name": "ipython",
    "version": 3
   },
   "file_extension": ".py",
   "mimetype": "text/x-python",
   "name": "python",
   "nbconvert_exporter": "python",
   "pygments_lexer": "ipython3",
   "version": "3.12.7"
  }
 },
 "nbformat": 4,
 "nbformat_minor": 5
}
